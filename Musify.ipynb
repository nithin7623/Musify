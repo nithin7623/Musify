{
  "cells": [
    {
      "cell_type": "code",
      "execution_count": null,
      "metadata": {
        "id": "m3SIuvTHvCMW"
      },
      "outputs": [],
      "source": [
        "#This project is about music composition using AI\n",
        "#We mainly focused on the music of Piano\n",
        "#We used LSTM, a Recurrent Neural Network(RNN) approach\n",
        "#Platform : Google Colab\n",
        "#Libraries : Tensorflow,Music21,Keras,NumPy,Sklearn,tqdm"
      ]
    },
    {
      "cell_type": "code",
      "execution_count": null,
      "metadata": {
        "colab": {
          "base_uri": "https://localhost:8080/",
          "height": 74,
          "resources": {
            "http://localhost:8080/nbextensions/google.colab/files.js": {
              "data": "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",
              "headers": [
                [
                  "content-type",
                  "application/javascript"
                ]
              ],
              "ok": true,
              "status": 200,
              "status_text": "OK"
            }
          }
        },
        "id": "rLpurDP99wgC",
        "outputId": "97c30e4f-e211-4ebc-f80d-1ad9edd89cd6"
      },
      "outputs": [
        {
          "output_type": "display_data",
          "data": {
            "text/plain": [
              "<IPython.core.display.HTML object>"
            ],
            "text/html": [
              "\n",
              "     <input type=\"file\" id=\"files-b17ce924-be41-4b0c-94ff-e60f1e43505f\" name=\"files[]\" multiple disabled\n",
              "        style=\"border:none\" />\n",
              "     <output id=\"result-b17ce924-be41-4b0c-94ff-e60f1e43505f\">\n",
              "      Upload widget is only available when the cell has been executed in the\n",
              "      current browser session. Please rerun this cell to enable.\n",
              "      </output>\n",
              "      <script src=\"/nbextensions/google.colab/files.js\"></script> "
            ]
          },
          "metadata": {}
        },
        {
          "output_type": "stream",
          "name": "stdout",
          "text": [
            "Saving All_Midi_Files.zip to All_Midi_Files (1).zip\n"
          ]
        }
      ],
      "source": [
        "from google.colab import files\n",
        "#upload zip file of All_Midi_Files given\n",
        "path_to_file = list(files.upload().keys())[0]"
      ]
    },
    {
      "cell_type": "code",
      "execution_count": null,
      "metadata": {
        "id": "G93rgsxzU3FJ",
        "colab": {
          "base_uri": "https://localhost:8080/"
        },
        "outputId": "ebc3e468-ff10-4259-fede-74b9c5838603",
        "collapsed": true
      },
      "outputs": [
        {
          "output_type": "stream",
          "name": "stdout",
          "text": [
            "Reading package lists... Done\n",
            "Building dependency tree... Done\n",
            "Reading state information... Done\n",
            "The following NEW packages will be installed:\n",
            "  poppler-utils\n",
            "0 upgraded, 1 newly installed, 0 to remove and 45 not upgraded.\n",
            "Need to get 186 kB of archives.\n",
            "After this operation, 696 kB of additional disk space will be used.\n",
            "Get:1 http://archive.ubuntu.com/ubuntu jammy-updates/main amd64 poppler-utils amd64 22.02.0-2ubuntu0.5 [186 kB]\n",
            "Fetched 186 kB in 0s (2,081 kB/s)\n",
            "Selecting previously unselected package poppler-utils.\n",
            "(Reading database ... 123588 files and directories currently installed.)\n",
            "Preparing to unpack .../poppler-utils_22.02.0-2ubuntu0.5_amd64.deb ...\n",
            "Unpacking poppler-utils (22.02.0-2ubuntu0.5) ...\n",
            "Setting up poppler-utils (22.02.0-2ubuntu0.5) ...\n",
            "Processing triggers for man-db (2.10.2-1) ...\n",
            "Archive:  /content/All_Midi_Files.zip\n",
            " extracting: All Midi Files/albeniz/alb_esp1.mid  \n",
            " extracting: All Midi Files/albeniz/alb_esp2.mid  \n",
            " extracting: All Midi Files/albeniz/alb_esp3.mid  \n",
            " extracting: All Midi Files/albeniz/alb_esp4.mid  \n",
            " extracting: All Midi Files/albeniz/alb_esp5.mid  \n",
            " extracting: All Midi Files/albeniz/alb_esp6.mid  \n",
            " extracting: All Midi Files/albeniz/alb_se1.mid  \n",
            " extracting: All Midi Files/albeniz/alb_se2.mid  \n",
            " extracting: All Midi Files/albeniz/alb_se3.mid  \n",
            " extracting: All Midi Files/albeniz/alb_se4.mid  \n",
            " extracting: All Midi Files/albeniz/alb_se5.mid  \n",
            " extracting: All Midi Files/albeniz/alb_se6.mid  \n",
            " extracting: All Midi Files/albeniz/alb_se7.mid  \n",
            " extracting: All Midi Files/albeniz/alb_se8.mid  \n",
            " extracting: All Midi Files/bach/bach_846.mid  \n",
            " extracting: All Midi Files/bach/bach_847.mid  \n",
            " extracting: All Midi Files/bach/bach_850.mid  \n",
            " extracting: All Midi Files/balakir/islamei.mid  \n",
            " extracting: All Midi Files/beeth/appass_1.mid  \n",
            " extracting: All Midi Files/beeth/appass_2.mid  \n",
            " extracting: All Midi Files/beeth/appass_3.mid  \n",
            " extracting: All Midi Files/beeth/beethoven_hammerklavier_1.mid  \n",
            " extracting: All Midi Files/beeth/beethoven_hammerklavier_2.mid  \n",
            " extracting: All Midi Files/beeth/beethoven_hammerklavier_3.mid  \n",
            " extracting: All Midi Files/beeth/beethoven_hammerklavier_4.mid  \n",
            " extracting: All Midi Files/beeth/beethoven_les_adieux_1.mid  \n",
            " extracting: All Midi Files/beeth/beethoven_les_adieux_2.mid  \n",
            " extracting: All Midi Files/beeth/beethoven_les_adieux_3.mid  \n",
            " extracting: All Midi Files/beeth/beethoven_opus10_1.mid  \n",
            " extracting: All Midi Files/beeth/beethoven_opus10_2.mid  \n",
            " extracting: All Midi Files/beeth/beethoven_opus10_3.mid  \n",
            " extracting: All Midi Files/beeth/beethoven_opus22_1.mid  \n",
            " extracting: All Midi Files/beeth/beethoven_opus22_2.mid  \n",
            " extracting: All Midi Files/beeth/beethoven_opus22_3.mid  \n",
            " extracting: All Midi Files/beeth/beethoven_opus22_4.mid  \n",
            " extracting: All Midi Files/beeth/beethoven_opus90_1.mid  \n",
            " extracting: All Midi Files/beeth/beethoven_opus90_2.mid  \n",
            " extracting: All Midi Files/beeth/elise.mid  \n",
            " extracting: All Midi Files/beeth/mond_1.mid  \n",
            " extracting: All Midi Files/beeth/mond_2.mid  \n",
            " extracting: All Midi Files/beeth/mond_3.mid  \n",
            " extracting: All Midi Files/beeth/pathetique_1.mid  \n",
            " extracting: All Midi Files/beeth/pathetique_2.mid  \n",
            " extracting: All Midi Files/beeth/pathetique_3.mid  \n",
            " extracting: All Midi Files/beeth/waldstein_1.mid  \n",
            " extracting: All Midi Files/beeth/waldstein_2.mid  \n",
            " extracting: All Midi Files/beeth/waldstein_3.mid  \n",
            " extracting: All Midi Files/borodin/bor_ps1.mid  \n",
            " extracting: All Midi Files/borodin/bor_ps2.mid  \n",
            " extracting: All Midi Files/borodin/bor_ps3.mid  \n",
            " extracting: All Midi Files/borodin/bor_ps4.mid  \n",
            " extracting: All Midi Files/borodin/bor_ps5.mid  \n",
            " extracting: All Midi Files/borodin/bor_ps6.mid  \n",
            " extracting: All Midi Files/borodin/bor_ps7.mid  \n",
            " extracting: All Midi Files/brahms/br_im2.mid  \n",
            " extracting: All Midi Files/brahms/br_im5.mid  \n",
            " extracting: All Midi Files/brahms/BR_IM6.MID  \n",
            " extracting: All Midi Files/brahms/br_rhap.mid  \n",
            " extracting: All Midi Files/brahms/brahms_opus1_1.mid  \n",
            " extracting: All Midi Files/brahms/brahms_opus1_2.mid  \n",
            " extracting: All Midi Files/brahms/brahms_opus1_3.mid  \n",
            " extracting: All Midi Files/brahms/brahms_opus1_4.mid  \n",
            " extracting: All Midi Files/brahms/brahms_opus117_1.mid  \n",
            " extracting: All Midi Files/brahms/brahms_opus117_2.mid  \n",
            " extracting: All Midi Files/burgm/burg_agitato.mid  \n",
            " extracting: All Midi Files/burgm/burg_erwachen.mid  \n",
            " extracting: All Midi Files/burgm/burg_geschwindigkeit.mid  \n",
            " extracting: All Midi Files/burgm/burg_gewitter.mid  \n",
            " extracting: All Midi Files/burgm/burg_perlen.mid  \n",
            " extracting: All Midi Files/burgm/burg_quelle.mid  \n",
            " extracting: All Midi Files/burgm/burg_spinnerlied.mid  \n",
            " extracting: All Midi Files/burgm/burg_sylphen.mid  \n",
            " extracting: All Midi Files/burgm/burg_trennung.mid  \n",
            " extracting: All Midi Files/chopin/chp_op18.mid  \n",
            " extracting: All Midi Files/chopin/chp_op31.mid  \n",
            " extracting: All Midi Files/chopin/chpn_op10_e01.mid  \n",
            " extracting: All Midi Files/chopin/chpn_op10_e05.mid  \n",
            " extracting: All Midi Files/chopin/chpn_op10_e12.mid  \n",
            " extracting: All Midi Files/chopin/chpn_op23.mid  \n",
            " extracting: All Midi Files/chopin/chpn_op25_e1.mid  \n",
            " extracting: All Midi Files/chopin/chpn_op25_e11.mid  \n",
            " extracting: All Midi Files/chopin/chpn_op25_e12.mid  \n",
            " extracting: All Midi Files/chopin/chpn_op25_e2.mid  \n",
            " extracting: All Midi Files/chopin/chpn_op25_e3.mid  \n",
            " extracting: All Midi Files/chopin/chpn_op25_e4.mid  \n",
            " extracting: All Midi Files/chopin/chpn_op27_1.mid  \n",
            " extracting: All Midi Files/chopin/chpn_op27_2.mid  \n",
            " extracting: All Midi Files/chopin/chpn_op33_2.mid  \n",
            " extracting: All Midi Files/chopin/chpn_op33_4.mid  \n",
            " extracting: All Midi Files/chopin/chpn_op35_1.mid  \n",
            " extracting: All Midi Files/chopin/chpn_op35_2.mid  \n",
            " extracting: All Midi Files/chopin/chpn_op35_3.mid  \n",
            " extracting: All Midi Files/chopin/chpn_op35_4.mid  \n",
            " extracting: All Midi Files/chopin/chpn_op53.mid  \n",
            " extracting: All Midi Files/chopin/chpn_op66.mid  \n",
            " extracting: All Midi Files/chopin/chpn_op7_1.mid  \n",
            " extracting: All Midi Files/chopin/chpn_op7_2.mid  \n",
            " extracting: All Midi Files/chopin/chpn-p1.mid  \n",
            " extracting: All Midi Files/chopin/chpn-p10.mid  \n",
            " extracting: All Midi Files/chopin/chpn-p11.mid  \n",
            " extracting: All Midi Files/chopin/chpn-p12.mid  \n",
            " extracting: All Midi Files/chopin/chpn-p13.mid  \n",
            " extracting: All Midi Files/chopin/chpn-p14.mid  \n",
            " extracting: All Midi Files/chopin/chpn-p15.mid  \n",
            " extracting: All Midi Files/chopin/chpn-p16.mid  \n",
            " extracting: All Midi Files/chopin/chpn-p17.mid  \n",
            " extracting: All Midi Files/chopin/chpn-p18.mid  \n",
            " extracting: All Midi Files/chopin/chpn-p19.mid  \n",
            " extracting: All Midi Files/chopin/chpn-p2.mid  \n",
            " extracting: All Midi Files/chopin/chpn-p20.mid  \n",
            " extracting: All Midi Files/chopin/chpn-p21.mid  \n",
            " extracting: All Midi Files/chopin/chpn-p22.mid  \n",
            " extracting: All Midi Files/chopin/chpn-p23.mid  \n",
            " extracting: All Midi Files/chopin/chpn-p24.mid  \n",
            " extracting: All Midi Files/chopin/chpn-p3.mid  \n",
            " extracting: All Midi Files/chopin/chpn-p4.mid  \n",
            " extracting: All Midi Files/chopin/chpn-p5.mid  \n",
            " extracting: All Midi Files/chopin/chpn-p6.mid  \n",
            " extracting: All Midi Files/chopin/chpn-p7.mid  \n",
            " extracting: All Midi Files/chopin/chpn-p8.mid  \n",
            " extracting: All Midi Files/chopin/chpn-p9.mid  \n",
            " extracting: All Midi Files/debussy/DEB_CLAI.MID  \n",
            " extracting: All Midi Files/debussy/deb_menu.mid  \n",
            " extracting: All Midi Files/debussy/DEB_PASS.MID  \n",
            " extracting: All Midi Files/debussy/deb_prel.mid  \n",
            " extracting: All Midi Files/debussy/debussy_cc_1.mid  \n",
            " extracting: All Midi Files/debussy/debussy_cc_2.mid  \n",
            " extracting: All Midi Files/debussy/debussy_cc_3.mid  \n",
            " extracting: All Midi Files/debussy/debussy_cc_4.mid  \n",
            " extracting: All Midi Files/debussy/debussy_cc_6.mid  \n",
            " extracting: All Midi Files/granados/gra_esp_2.mid  \n",
            " extracting: All Midi Files/granados/gra_esp_3.mid  \n",
            " extracting: All Midi Files/granados/gra_esp_4.mid  \n",
            " extracting: All Midi Files/grieg/grieg_album.mid  \n",
            " extracting: All Midi Files/grieg/grieg_berceuse.mid  \n",
            " extracting: All Midi Files/grieg/grieg_brooklet.mid  \n",
            " extracting: All Midi Files/grieg/grieg_butterfly.mid  \n",
            " extracting: All Midi Files/grieg/grieg_elfentanz.mid  \n",
            " extracting: All Midi Files/grieg/grieg_halling.mid  \n",
            " extracting: All Midi Files/grieg/grieg_kobold.mid  \n",
            " extracting: All Midi Files/grieg/grieg_march.mid  \n",
            " extracting: All Midi Files/grieg/grieg_once_upon_a_time.mid  \n",
            " extracting: All Midi Files/grieg/grieg_spring.mid  \n",
            " extracting: All Midi Files/grieg/grieg_voeglein.mid  \n",
            " extracting: All Midi Files/grieg/grieg_waechter.mid  \n",
            " extracting: All Midi Files/grieg/grieg_walzer.mid  \n",
            " extracting: All Midi Files/grieg/grieg_wanderer.mid  \n",
            " extracting: All Midi Files/grieg/grieg_wedding.mid  \n",
            " extracting: All Midi Files/grieg/grieg_zwerge.mid  \n",
            " extracting: All Midi Files/haydn/hay_40_1.mid  \n",
            " extracting: All Midi Files/haydn/hay_40_2.mid  \n",
            " extracting: All Midi Files/haydn/haydn_33_1.mid  \n",
            " extracting: All Midi Files/haydn/haydn_33_2.mid  \n",
            " extracting: All Midi Files/haydn/haydn_33_3.mid  \n",
            " extracting: All Midi Files/haydn/haydn_35_1.mid  \n",
            " extracting: All Midi Files/haydn/haydn_35_2.mid  \n",
            " extracting: All Midi Files/haydn/haydn_35_3.mid  \n",
            " extracting: All Midi Files/haydn/haydn_43_1.mid  \n",
            " extracting: All Midi Files/haydn/haydn_43_2.mid  \n",
            " extracting: All Midi Files/haydn/haydn_43_3.mid  \n",
            " extracting: All Midi Files/haydn/haydn_7_1.mid  \n",
            " extracting: All Midi Files/haydn/haydn_7_2.mid  \n",
            " extracting: All Midi Files/haydn/haydn_7_3.mid  \n",
            " extracting: All Midi Files/haydn/haydn_8_1.mid  \n",
            " extracting: All Midi Files/haydn/haydn_8_2.mid  \n",
            " extracting: All Midi Files/haydn/haydn_8_3.mid  \n",
            " extracting: All Midi Files/haydn/haydn_8_4.mid  \n",
            " extracting: All Midi Files/haydn/haydn_9_1.mid  \n",
            " extracting: All Midi Files/haydn/haydn_9_2.mid  \n",
            " extracting: All Midi Files/haydn/haydn_9_3.mid  \n",
            " extracting: All Midi Files/liszt/liz_donjuan.mid  \n",
            " extracting: All Midi Files/liszt/liz_et_trans4.mid  \n",
            " extracting: All Midi Files/liszt/liz_et_trans5.mid  \n",
            " extracting: All Midi Files/liszt/liz_et_trans8.mid  \n",
            " extracting: All Midi Files/liszt/liz_et1.mid  \n",
            " extracting: All Midi Files/liszt/liz_et2.mid  \n",
            " extracting: All Midi Files/liszt/liz_et3.mid  \n",
            " extracting: All Midi Files/liszt/liz_et4.mid  \n",
            " extracting: All Midi Files/liszt/liz_et5.mid  \n",
            " extracting: All Midi Files/liszt/liz_et6.mid  \n",
            " extracting: All Midi Files/liszt/liz_liebestraum.mid  \n",
            " extracting: All Midi Files/liszt/liz_rhap02.mid  \n",
            " extracting: All Midi Files/liszt/liz_rhap09.mid  \n",
            " extracting: All Midi Files/liszt/liz_rhap10.mid  \n",
            " extracting: All Midi Files/liszt/liz_rhap12.mid  \n",
            " extracting: All Midi Files/liszt/liz_rhap15.mid  \n",
            " extracting: All Midi Files/mendelssohn/mendel_op19_1.mid  \n",
            " extracting: All Midi Files/mendelssohn/mendel_op19_2.mid  \n",
            " extracting: All Midi Files/mendelssohn/mendel_op19_3.mid  \n",
            " extracting: All Midi Files/mendelssohn/mendel_op19_4.mid  \n",
            " extracting: All Midi Files/mendelssohn/mendel_op19_5.mid  \n",
            " extracting: All Midi Files/mendelssohn/mendel_op19_6.mid  \n",
            " extracting: All Midi Files/mendelssohn/mendel_op30_1.mid  \n",
            " extracting: All Midi Files/mendelssohn/mendel_op30_2.mid  \n",
            " extracting: All Midi Files/mendelssohn/mendel_op30_3.mid  \n",
            " extracting: All Midi Files/mendelssohn/mendel_op30_4.mid  \n",
            " extracting: All Midi Files/mendelssohn/mendel_op30_5.mid  \n",
            " extracting: All Midi Files/mendelssohn/mendel_op53_5.mid  \n",
            " extracting: All Midi Files/mendelssohn/mendel_op62_3.mid  \n",
            " extracting: All Midi Files/mendelssohn/mendel_op62_4.mid  \n",
            " extracting: All Midi Files/mendelssohn/mendel_op62_5.mid  \n",
            " extracting: All Midi Files/mozart/mz_311_1.mid  \n",
            " extracting: All Midi Files/mozart/mz_311_2.mid  \n",
            " extracting: All Midi Files/mozart/mz_311_3.mid  \n",
            " extracting: All Midi Files/mozart/mz_330_1.mid  \n",
            " extracting: All Midi Files/mozart/mz_330_2.mid  \n",
            " extracting: All Midi Files/mozart/mz_330_3.mid  \n",
            " extracting: All Midi Files/mozart/mz_331_1.mid  \n",
            " extracting: All Midi Files/mozart/mz_331_2.mid  \n",
            " extracting: All Midi Files/mozart/mz_331_3.mid  \n",
            " extracting: All Midi Files/mozart/mz_332_1.mid  \n",
            " extracting: All Midi Files/mozart/mz_332_2.mid  \n",
            " extracting: All Midi Files/mozart/mz_332_3.mid  \n",
            " extracting: All Midi Files/mozart/mz_333_1.mid  \n",
            " extracting: All Midi Files/mozart/mz_333_2.mid  \n",
            " extracting: All Midi Files/mozart/mz_333_3.mid  \n",
            " extracting: All Midi Files/mozart/mz_545_1.mid  \n",
            " extracting: All Midi Files/mozart/mz_545_2.mid  \n",
            " extracting: All Midi Files/mozart/mz_545_3.mid  \n",
            " extracting: All Midi Files/mozart/mz_570_1.mid  \n",
            " extracting: All Midi Files/mozart/mz_570_2.mid  \n",
            " extracting: All Midi Files/mozart/mz_570_3.mid  \n",
            " extracting: All Midi Files/muss/muss_1.mid  \n",
            " extracting: All Midi Files/muss/muss_2.mid  \n",
            " extracting: All Midi Files/muss/muss_3.mid  \n",
            " extracting: All Midi Files/muss/muss_4.mid  \n",
            " extracting: All Midi Files/muss/muss_5.mid  \n",
            " extracting: All Midi Files/muss/muss_6.mid  \n",
            " extracting: All Midi Files/muss/muss_7.mid  \n",
            " extracting: All Midi Files/muss/muss_8.mid  \n",
            " extracting: All Midi Files/schubert/schu_143_1.mid  \n",
            " extracting: All Midi Files/schubert/schu_143_2.mid  \n",
            " extracting: All Midi Files/schubert/schu_143_3.mid  \n",
            " extracting: All Midi Files/schubert/schub_d760_1.mid  \n",
            " extracting: All Midi Files/schubert/schub_d760_2.mid  \n",
            " extracting: All Midi Files/schubert/schub_d760_3.mid  \n",
            " extracting: All Midi Files/schubert/schub_d760_4.mid  \n",
            " extracting: All Midi Files/schubert/schub_d960_1.mid  \n",
            " extracting: All Midi Files/schubert/schub_d960_2.mid  \n",
            " extracting: All Midi Files/schubert/schub_d960_3.mid  \n",
            " extracting: All Midi Files/schubert/schub_d960_4.mid  \n",
            " extracting: All Midi Files/schubert/schubert_D850_1.mid  \n",
            " extracting: All Midi Files/schubert/schubert_D850_2.mid  \n",
            " extracting: All Midi Files/schubert/schubert_D850_3.mid  \n",
            " extracting: All Midi Files/schubert/schubert_D850_4.mid  \n",
            " extracting: All Midi Files/schubert/schubert_D935_1.mid  \n",
            " extracting: All Midi Files/schubert/schubert_D935_2.mid  \n",
            " extracting: All Midi Files/schubert/schubert_D935_3.mid  \n",
            " extracting: All Midi Files/schubert/schubert_D935_4.mid  \n",
            " extracting: All Midi Files/schubert/schuim-1.mid  \n",
            " extracting: All Midi Files/schubert/schuim-2.mid  \n",
            " extracting: All Midi Files/schubert/schuim-3.mid  \n",
            " extracting: All Midi Files/schubert/schuim-4.mid  \n",
            " extracting: All Midi Files/schubert/schumm-1.mid  \n",
            " extracting: All Midi Files/schubert/schumm-2.mid  \n",
            " extracting: All Midi Files/schubert/schumm-3.mid  \n",
            " extracting: All Midi Files/schubert/schumm-4.mid  \n",
            " extracting: All Midi Files/schubert/schumm-5.mid  \n",
            " extracting: All Midi Files/schubert/schumm-6.mid  \n",
            " extracting: All Midi Files/schumann/schum_abegg.mid  \n",
            " extracting: All Midi Files/schumann/scn15_1.mid  \n",
            " extracting: All Midi Files/schumann/scn15_10.mid  \n",
            " extracting: All Midi Files/schumann/scn15_11.mid  \n",
            " extracting: All Midi Files/schumann/scn15_12.mid  \n",
            " extracting: All Midi Files/schumann/scn15_13.mid  \n",
            " extracting: All Midi Files/schumann/scn15_2.mid  \n",
            " extracting: All Midi Files/schumann/scn15_3.mid  \n",
            " extracting: All Midi Files/schumann/scn15_4.mid  \n",
            " extracting: All Midi Files/schumann/scn15_5.mid  \n",
            " extracting: All Midi Files/schumann/scn15_6.mid  \n",
            " extracting: All Midi Files/schumann/scn15_7.mid  \n",
            " extracting: All Midi Files/schumann/scn15_8.mid  \n",
            " extracting: All Midi Files/schumann/scn15_9.mid  \n",
            " extracting: All Midi Files/schumann/scn16_1.mid  \n",
            " extracting: All Midi Files/schumann/scn16_2.mid  \n",
            " extracting: All Midi Files/schumann/scn16_3.mid  \n",
            " extracting: All Midi Files/schumann/scn16_4.mid  \n",
            " extracting: All Midi Files/schumann/scn16_5.mid  \n",
            " extracting: All Midi Files/schumann/scn16_6.mid  \n",
            " extracting: All Midi Files/schumann/scn16_7.mid  \n",
            " extracting: All Midi Files/schumann/scn16_8.mid  \n",
            " extracting: All Midi Files/schumann/scn68_10.mid  \n",
            " extracting: All Midi Files/schumann/scn68_12.mid  \n",
            " extracting: All Midi Files/tschai/ty_april.mid  \n",
            " extracting: All Midi Files/tschai/ty_august.mid  \n",
            " extracting: All Midi Files/tschai/ty_dezember.mid  \n",
            " extracting: All Midi Files/tschai/ty_februar.mid  \n",
            " extracting: All Midi Files/tschai/ty_januar.mid  \n",
            " extracting: All Midi Files/tschai/ty_juli.mid  \n",
            " extracting: All Midi Files/tschai/ty_juni.mid  \n",
            " extracting: All Midi Files/tschai/ty_maerz.mid  \n",
            " extracting: All Midi Files/tschai/ty_mai.mid  \n",
            " extracting: All Midi Files/tschai/ty_november.mid  \n",
            " extracting: All Midi Files/tschai/ty_oktober.mid  \n",
            " extracting: All Midi Files/tschai/ty_september.mid  \n"
          ]
        }
      ],
      "source": [
        "!apt-get install poppler-utils\n",
        "!unzip /content/All_Midi_Files.zip"
      ]
    },
    {
      "cell_type": "code",
      "execution_count": null,
      "metadata": {
        "id": "nNdHvofIvrJ8"
      },
      "outputs": [],
      "source": [
        "from music21 import *\n",
        "import glob\n",
        "import numpy as np\n",
        "import pandas as pd\n",
        "from tqdm import tqdm\n",
        "from tensorflow.keras.layers import LSTM,GRU,Dense,Input,Dropout,Flatten\n",
        "from tensorflow.keras.models import Sequential,Model,load_model\n",
        "from sklearn.model_selection import train_test_split\n",
        "import random"
      ]
    },
    {
      "cell_type": "code",
      "execution_count": null,
      "metadata": {
        "id": "031SnPypwSus"
      },
      "outputs": [],
      "source": [
        "#Reading and parsing function\n",
        "def read_file(file):\n",
        "  notes=[]\n",
        "  notes_to_parse=None\n",
        "  midi=converter.parse(file)\n",
        "  instrmt=instrument.partitionByInstrument(midi)\n",
        "\n",
        "  #Fetching Piano Data\n",
        "  for part in instrmt.parts:\n",
        "    if 'Piano' in str(part):\n",
        "      notes_to_parse=part.recurse()\n",
        "\n",
        "#checking element type is Note or chord\n",
        " # if element is chord, we split it into notes\n",
        "      for element in notes_to_parse:\n",
        "        if type(element)==note.Note:\n",
        "          notes.append(str(element.pitch))\n",
        "        elif type(element)==chord.Chord:\n",
        "          notes.append('.'.join(str(n) for n in element.normalOrder))\n",
        "  return notes"
      ]
    },
    {
      "cell_type": "code",
      "execution_count": null,
      "metadata": {
        "id": "_D6-AuajIFCe",
        "colab": {
          "base_uri": "https://localhost:8080/"
        },
        "outputId": "8269cc61-61b2-4cb8-e9a8-7795533c6896"
      },
      "outputs": [
        {
          "output_type": "stream",
          "name": "stderr",
          "text": [
            "100%|██████████| 21/21 [00:13<00:00,  1.61it/s]\n"
          ]
        }
      ],
      "source": [
        "file_path=[\"haydn\"]\n",
        "all_files=glob.glob('All Midi Files/'+file_path[0]+'/*.mid', recursive=True)\n",
        "\n",
        "#reading each midi file\n",
        "notes_list= [read_file(i) for i in tqdm(all_files, position=0,leave=True)]\n",
        "\n",
        "# Pad the sequences to have the same length\n",
        "max_length = max(len(lst) for lst in notes_list)\n",
        "padded_notes = [lst + [''] * (max_length - len(lst)) for lst in notes_list]\n",
        "\n",
        "# Now create the NumPy array\n",
        "notes_array = np.array(padded_notes)"
      ]
    },
    {
      "cell_type": "code",
      "execution_count": null,
      "metadata": {
        "id": "Zs5Jbj0tLdbg",
        "colab": {
          "base_uri": "https://localhost:8080/"
        },
        "outputId": "d72b524b-db6a-4bd5-8e07-621f3ad499b8"
      },
      "outputs": [
        {
          "output_type": "stream",
          "name": "stdout",
          "text": [
            "Unique Notes: 180\n",
            "\n",
            "Frequency notes\n",
            "30 : 93\n",
            "50 : 76\n",
            "70 : 67\n",
            "90 : 58\n"
          ]
        }
      ],
      "source": [
        "#making array of unique notes\n",
        "# notess = sum(notes_array,[])\n",
        "notess = [item for sublist in notes_array for item in sublist] # Flatten the list of lists\n",
        "unique_notes = list(set(notess))\n",
        "print(\"Unique Notes:\",len(unique_notes))\n",
        "\n",
        "#notes with their frequency\n",
        "freq = dict(map(lambda x: (x,notess.count(x)),unique_notes))\n",
        "\n",
        "#getting the threshold frequency\n",
        "print(\"\\nFrequency notes\")\n",
        "for i in range(30,100,20):\n",
        "  print(i,\":\",len(list(filter(lambda x:x[1]>=i,freq.items()))))\n",
        "#freq_notes = []\n",
        "\n",
        "#filtering notes >50\n",
        "freq_notes = dict(filter(lambda x:x[1]>=50, freq.items()))\n",
        "new_notes = [[i for i in j if i in freq_notes] for j in notes_array]\n",
        "\n",
        "#dictionary having key as note index and value as note\n",
        "ind2note = dict(enumerate(freq_notes))\n",
        "\n",
        "#reverse of above dictionary\n",
        "note2ind = dict(map(reversed,ind2note.items()))\n",
        "\n"
      ]
    },
    {
      "cell_type": "code",
      "execution_count": null,
      "metadata": {
        "id": "s2Si_r19Pzu4",
        "colab": {
          "base_uri": "https://localhost:8080/"
        },
        "outputId": "e41b69bd-a5b4-4c17-9093-508318d7bf48"
      },
      "outputs": [
        {
          "output_type": "stream",
          "name": "stdout",
          "text": [
            "(64673, 50)\n"
          ]
        }
      ],
      "source": [
        "timesteps=50\n",
        "\n",
        "#store values of input and output\n",
        "x=[] ; y=[]\n",
        "\n",
        "for i in new_notes:\n",
        "  for j in range(0,len(i)-timesteps):\n",
        "    #input will be the current index + timestep\n",
        "    #output will be the next index after timestep\n",
        "    inp=i[j:j+timesteps] ; out=i[j+timesteps]\n",
        "\n",
        "    #append the index value of respective notes\n",
        "    x.append(list(map(lambda x:note2ind[x],inp)))\n",
        "    y.append(note2ind[out])\n",
        "\n",
        "x_new=np.array(x)\n",
        "y_new=np.array(y)\n",
        "print(x_new.shape)"
      ]
    },
    {
      "cell_type": "code",
      "execution_count": null,
      "metadata": {
        "id": "quqk5e2fWWa5"
      },
      "outputs": [],
      "source": [
        "x_new = np.reshape(x_new,(len(x_new),timesteps,1))\n",
        "y_new = np.reshape(y_new,(-1,1))\n",
        "\n",
        "#splitting the input values into training and testing sets in 80:20 ratio\n",
        "from sklearn.model_selection import train_test_split\n",
        "x_train,x_test,y_train,y_test = train_test_split(x_new,y_new,test_size=0.2, random_state =42 )"
      ]
    },
    {
      "cell_type": "code",
      "execution_count": null,
      "metadata": {
        "id": "WeiiJZrBX7nj",
        "colab": {
          "base_uri": "https://localhost:8080/",
          "height": 376
        },
        "outputId": "5b653d89-52ce-46d9-d0d4-27c15d673dea"
      },
      "outputs": [
        {
          "output_type": "stream",
          "name": "stderr",
          "text": [
            "/usr/local/lib/python3.10/dist-packages/keras/src/layers/rnn/rnn.py:204: UserWarning: Do not pass an `input_shape`/`input_dim` argument to a layer. When using Sequential models, prefer using an `Input(shape)` object as the first layer in the model instead.\n",
            "  super().__init__(**kwargs)\n"
          ]
        },
        {
          "output_type": "display_data",
          "data": {
            "text/plain": [
              "\u001b[1mModel: \"sequential\"\u001b[0m\n"
            ],
            "text/html": [
              "<pre style=\"white-space:pre;overflow-x:auto;line-height:normal;font-family:Menlo,'DejaVu Sans Mono',consolas,'Courier New',monospace\"><span style=\"font-weight: bold\">Model: \"sequential\"</span>\n",
              "</pre>\n"
            ]
          },
          "metadata": {}
        },
        {
          "output_type": "display_data",
          "data": {
            "text/plain": [
              "┏━━━━━━━━━━━━━━━━━━━━━━━━━━━━━━━━━━━━━━┳━━━━━━━━━━━━━━━━━━━━━━━━━━━━━┳━━━━━━━━━━━━━━━━━┓\n",
              "┃\u001b[1m \u001b[0m\u001b[1mLayer (type)                        \u001b[0m\u001b[1m \u001b[0m┃\u001b[1m \u001b[0m\u001b[1mOutput Shape               \u001b[0m\u001b[1m \u001b[0m┃\u001b[1m \u001b[0m\u001b[1m        Param #\u001b[0m\u001b[1m \u001b[0m┃\n",
              "┡━━━━━━━━━━━━━━━━━━━━━━━━━━━━━━━━━━━━━━╇━━━━━━━━━━━━━━━━━━━━━━━━━━━━━╇━━━━━━━━━━━━━━━━━┩\n",
              "│ lstm (\u001b[38;5;33mLSTM\u001b[0m)                          │ (\u001b[38;5;45mNone\u001b[0m, \u001b[38;5;34m50\u001b[0m, \u001b[38;5;34m256\u001b[0m)             │         \u001b[38;5;34m264,192\u001b[0m │\n",
              "├──────────────────────────────────────┼─────────────────────────────┼─────────────────┤\n",
              "│ dropout (\u001b[38;5;33mDropout\u001b[0m)                    │ (\u001b[38;5;45mNone\u001b[0m, \u001b[38;5;34m50\u001b[0m, \u001b[38;5;34m256\u001b[0m)             │               \u001b[38;5;34m0\u001b[0m │\n",
              "├──────────────────────────────────────┼─────────────────────────────┼─────────────────┤\n",
              "│ lstm_1 (\u001b[38;5;33mLSTM\u001b[0m)                        │ (\u001b[38;5;45mNone\u001b[0m, \u001b[38;5;34m256\u001b[0m)                 │         \u001b[38;5;34m525,312\u001b[0m │\n",
              "├──────────────────────────────────────┼─────────────────────────────┼─────────────────┤\n",
              "│ dropout_1 (\u001b[38;5;33mDropout\u001b[0m)                  │ (\u001b[38;5;45mNone\u001b[0m, \u001b[38;5;34m256\u001b[0m)                 │               \u001b[38;5;34m0\u001b[0m │\n",
              "├──────────────────────────────────────┼─────────────────────────────┼─────────────────┤\n",
              "│ dense (\u001b[38;5;33mDense\u001b[0m)                        │ (\u001b[38;5;45mNone\u001b[0m, \u001b[38;5;34m256\u001b[0m)                 │          \u001b[38;5;34m65,792\u001b[0m │\n",
              "├──────────────────────────────────────┼─────────────────────────────┼─────────────────┤\n",
              "│ dense_1 (\u001b[38;5;33mDense\u001b[0m)                      │ (\u001b[38;5;45mNone\u001b[0m, \u001b[38;5;34m76\u001b[0m)                  │          \u001b[38;5;34m19,532\u001b[0m │\n",
              "└──────────────────────────────────────┴─────────────────────────────┴─────────────────┘\n"
            ],
            "text/html": [
              "<pre style=\"white-space:pre;overflow-x:auto;line-height:normal;font-family:Menlo,'DejaVu Sans Mono',consolas,'Courier New',monospace\">┏━━━━━━━━━━━━━━━━━━━━━━━━━━━━━━━━━━━━━━┳━━━━━━━━━━━━━━━━━━━━━━━━━━━━━┳━━━━━━━━━━━━━━━━━┓\n",
              "┃<span style=\"font-weight: bold\"> Layer (type)                         </span>┃<span style=\"font-weight: bold\"> Output Shape                </span>┃<span style=\"font-weight: bold\">         Param # </span>┃\n",
              "┡━━━━━━━━━━━━━━━━━━━━━━━━━━━━━━━━━━━━━━╇━━━━━━━━━━━━━━━━━━━━━━━━━━━━━╇━━━━━━━━━━━━━━━━━┩\n",
              "│ lstm (<span style=\"color: #0087ff; text-decoration-color: #0087ff\">LSTM</span>)                          │ (<span style=\"color: #00d7ff; text-decoration-color: #00d7ff\">None</span>, <span style=\"color: #00af00; text-decoration-color: #00af00\">50</span>, <span style=\"color: #00af00; text-decoration-color: #00af00\">256</span>)             │         <span style=\"color: #00af00; text-decoration-color: #00af00\">264,192</span> │\n",
              "├──────────────────────────────────────┼─────────────────────────────┼─────────────────┤\n",
              "│ dropout (<span style=\"color: #0087ff; text-decoration-color: #0087ff\">Dropout</span>)                    │ (<span style=\"color: #00d7ff; text-decoration-color: #00d7ff\">None</span>, <span style=\"color: #00af00; text-decoration-color: #00af00\">50</span>, <span style=\"color: #00af00; text-decoration-color: #00af00\">256</span>)             │               <span style=\"color: #00af00; text-decoration-color: #00af00\">0</span> │\n",
              "├──────────────────────────────────────┼─────────────────────────────┼─────────────────┤\n",
              "│ lstm_1 (<span style=\"color: #0087ff; text-decoration-color: #0087ff\">LSTM</span>)                        │ (<span style=\"color: #00d7ff; text-decoration-color: #00d7ff\">None</span>, <span style=\"color: #00af00; text-decoration-color: #00af00\">256</span>)                 │         <span style=\"color: #00af00; text-decoration-color: #00af00\">525,312</span> │\n",
              "├──────────────────────────────────────┼─────────────────────────────┼─────────────────┤\n",
              "│ dropout_1 (<span style=\"color: #0087ff; text-decoration-color: #0087ff\">Dropout</span>)                  │ (<span style=\"color: #00d7ff; text-decoration-color: #00d7ff\">None</span>, <span style=\"color: #00af00; text-decoration-color: #00af00\">256</span>)                 │               <span style=\"color: #00af00; text-decoration-color: #00af00\">0</span> │\n",
              "├──────────────────────────────────────┼─────────────────────────────┼─────────────────┤\n",
              "│ dense (<span style=\"color: #0087ff; text-decoration-color: #0087ff\">Dense</span>)                        │ (<span style=\"color: #00d7ff; text-decoration-color: #00d7ff\">None</span>, <span style=\"color: #00af00; text-decoration-color: #00af00\">256</span>)                 │          <span style=\"color: #00af00; text-decoration-color: #00af00\">65,792</span> │\n",
              "├──────────────────────────────────────┼─────────────────────────────┼─────────────────┤\n",
              "│ dense_1 (<span style=\"color: #0087ff; text-decoration-color: #0087ff\">Dense</span>)                      │ (<span style=\"color: #00d7ff; text-decoration-color: #00d7ff\">None</span>, <span style=\"color: #00af00; text-decoration-color: #00af00\">76</span>)                  │          <span style=\"color: #00af00; text-decoration-color: #00af00\">19,532</span> │\n",
              "└──────────────────────────────────────┴─────────────────────────────┴─────────────────┘\n",
              "</pre>\n"
            ]
          },
          "metadata": {}
        },
        {
          "output_type": "display_data",
          "data": {
            "text/plain": [
              "\u001b[1m Total params: \u001b[0m\u001b[38;5;34m874,828\u001b[0m (3.34 MB)\n"
            ],
            "text/html": [
              "<pre style=\"white-space:pre;overflow-x:auto;line-height:normal;font-family:Menlo,'DejaVu Sans Mono',consolas,'Courier New',monospace\"><span style=\"font-weight: bold\"> Total params: </span><span style=\"color: #00af00; text-decoration-color: #00af00\">874,828</span> (3.34 MB)\n",
              "</pre>\n"
            ]
          },
          "metadata": {}
        },
        {
          "output_type": "display_data",
          "data": {
            "text/plain": [
              "\u001b[1m Trainable params: \u001b[0m\u001b[38;5;34m874,828\u001b[0m (3.34 MB)\n"
            ],
            "text/html": [
              "<pre style=\"white-space:pre;overflow-x:auto;line-height:normal;font-family:Menlo,'DejaVu Sans Mono',consolas,'Courier New',monospace\"><span style=\"font-weight: bold\"> Trainable params: </span><span style=\"color: #00af00; text-decoration-color: #00af00\">874,828</span> (3.34 MB)\n",
              "</pre>\n"
            ]
          },
          "metadata": {}
        },
        {
          "output_type": "display_data",
          "data": {
            "text/plain": [
              "\u001b[1m Non-trainable params: \u001b[0m\u001b[38;5;34m0\u001b[0m (0.00 B)\n"
            ],
            "text/html": [
              "<pre style=\"white-space:pre;overflow-x:auto;line-height:normal;font-family:Menlo,'DejaVu Sans Mono',consolas,'Courier New',monospace\"><span style=\"font-weight: bold\"> Non-trainable params: </span><span style=\"color: #00af00; text-decoration-color: #00af00\">0</span> (0.00 B)\n",
              "</pre>\n"
            ]
          },
          "metadata": {}
        }
      ],
      "source": [
        "#creating the model\n",
        "model=Sequential()\n",
        "\n",
        "#creating 2 stacked LSTM layer with dimension 256\n",
        "model.add(LSTM(256,return_sequences=True,input_shape=(x_new.shape[1],x_new.shape[2])))\n",
        "model.add(Dropout(0.2))\n",
        "model.add(LSTM(256))\n",
        "model.add(Dropout(0.2))\n",
        "model.add(Dense(256,activation='relu'))\n",
        "\n",
        "#fully connected layer for the output with softmax activation\n",
        "model.add(Dense(len(note2ind),activation='softmax'))\n",
        "model.summary()"
      ]
    },
    {
      "cell_type": "code",
      "source": [
        "#creating the model\n",
        "model_GRU=Sequential()\n",
        "\n",
        "#creating 2 stacked LSTM layer with dimension 256\n",
        "model_GRU.add(GRU(256,return_sequences=True,input_shape=(x_new.shape[1],x_new.shape[2])))\n",
        "model_GRU.add(Dropout(0.2))\n",
        "model_GRU.add(GRU(256))\n",
        "model_GRU.add(Dropout(0.2))\n",
        "model_GRU.add(Dense(256,activation='relu'))\n",
        "\n",
        "#fully connected layer for the output with softmax activation\n",
        "model_GRU.add(Dense(len(note2ind),activation='softmax'))\n",
        "model_GRU.summary()"
      ],
      "metadata": {
        "colab": {
          "base_uri": "https://localhost:8080/",
          "height": 376
        },
        "id": "11zD86P2D6KS",
        "outputId": "d39576e1-bd41-480e-e1e3-0d35fb9f32d5"
      },
      "execution_count": null,
      "outputs": [
        {
          "output_type": "stream",
          "name": "stderr",
          "text": [
            "/usr/local/lib/python3.10/dist-packages/keras/src/layers/rnn/rnn.py:204: UserWarning: Do not pass an `input_shape`/`input_dim` argument to a layer. When using Sequential models, prefer using an `Input(shape)` object as the first layer in the model instead.\n",
            "  super().__init__(**kwargs)\n"
          ]
        },
        {
          "output_type": "display_data",
          "data": {
            "text/plain": [
              "\u001b[1mModel: \"sequential_2\"\u001b[0m\n"
            ],
            "text/html": [
              "<pre style=\"white-space:pre;overflow-x:auto;line-height:normal;font-family:Menlo,'DejaVu Sans Mono',consolas,'Courier New',monospace\"><span style=\"font-weight: bold\">Model: \"sequential_2\"</span>\n",
              "</pre>\n"
            ]
          },
          "metadata": {}
        },
        {
          "output_type": "display_data",
          "data": {
            "text/plain": [
              "┏━━━━━━━━━━━━━━━━━━━━━━━━━━━━━━━━━━━━━━┳━━━━━━━━━━━━━━━━━━━━━━━━━━━━━┳━━━━━━━━━━━━━━━━━┓\n",
              "┃\u001b[1m \u001b[0m\u001b[1mLayer (type)                        \u001b[0m\u001b[1m \u001b[0m┃\u001b[1m \u001b[0m\u001b[1mOutput Shape               \u001b[0m\u001b[1m \u001b[0m┃\u001b[1m \u001b[0m\u001b[1m        Param #\u001b[0m\u001b[1m \u001b[0m┃\n",
              "┡━━━━━━━━━━━━━━━━━━━━━━━━━━━━━━━━━━━━━━╇━━━━━━━━━━━━━━━━━━━━━━━━━━━━━╇━━━━━━━━━━━━━━━━━┩\n",
              "│ gru (\u001b[38;5;33mGRU\u001b[0m)                            │ (\u001b[38;5;45mNone\u001b[0m, \u001b[38;5;34m50\u001b[0m, \u001b[38;5;34m256\u001b[0m)             │         \u001b[38;5;34m198,912\u001b[0m │\n",
              "├──────────────────────────────────────┼─────────────────────────────┼─────────────────┤\n",
              "│ dropout_4 (\u001b[38;5;33mDropout\u001b[0m)                  │ (\u001b[38;5;45mNone\u001b[0m, \u001b[38;5;34m50\u001b[0m, \u001b[38;5;34m256\u001b[0m)             │               \u001b[38;5;34m0\u001b[0m │\n",
              "├──────────────────────────────────────┼─────────────────────────────┼─────────────────┤\n",
              "│ gru_1 (\u001b[38;5;33mGRU\u001b[0m)                          │ (\u001b[38;5;45mNone\u001b[0m, \u001b[38;5;34m256\u001b[0m)                 │         \u001b[38;5;34m394,752\u001b[0m │\n",
              "├──────────────────────────────────────┼─────────────────────────────┼─────────────────┤\n",
              "│ dropout_5 (\u001b[38;5;33mDropout\u001b[0m)                  │ (\u001b[38;5;45mNone\u001b[0m, \u001b[38;5;34m256\u001b[0m)                 │               \u001b[38;5;34m0\u001b[0m │\n",
              "├──────────────────────────────────────┼─────────────────────────────┼─────────────────┤\n",
              "│ dense_4 (\u001b[38;5;33mDense\u001b[0m)                      │ (\u001b[38;5;45mNone\u001b[0m, \u001b[38;5;34m256\u001b[0m)                 │          \u001b[38;5;34m65,792\u001b[0m │\n",
              "├──────────────────────────────────────┼─────────────────────────────┼─────────────────┤\n",
              "│ dense_5 (\u001b[38;5;33mDense\u001b[0m)                      │ (\u001b[38;5;45mNone\u001b[0m, \u001b[38;5;34m76\u001b[0m)                  │          \u001b[38;5;34m19,532\u001b[0m │\n",
              "└──────────────────────────────────────┴─────────────────────────────┴─────────────────┘\n"
            ],
            "text/html": [
              "<pre style=\"white-space:pre;overflow-x:auto;line-height:normal;font-family:Menlo,'DejaVu Sans Mono',consolas,'Courier New',monospace\">┏━━━━━━━━━━━━━━━━━━━━━━━━━━━━━━━━━━━━━━┳━━━━━━━━━━━━━━━━━━━━━━━━━━━━━┳━━━━━━━━━━━━━━━━━┓\n",
              "┃<span style=\"font-weight: bold\"> Layer (type)                         </span>┃<span style=\"font-weight: bold\"> Output Shape                </span>┃<span style=\"font-weight: bold\">         Param # </span>┃\n",
              "┡━━━━━━━━━━━━━━━━━━━━━━━━━━━━━━━━━━━━━━╇━━━━━━━━━━━━━━━━━━━━━━━━━━━━━╇━━━━━━━━━━━━━━━━━┩\n",
              "│ gru (<span style=\"color: #0087ff; text-decoration-color: #0087ff\">GRU</span>)                            │ (<span style=\"color: #00d7ff; text-decoration-color: #00d7ff\">None</span>, <span style=\"color: #00af00; text-decoration-color: #00af00\">50</span>, <span style=\"color: #00af00; text-decoration-color: #00af00\">256</span>)             │         <span style=\"color: #00af00; text-decoration-color: #00af00\">198,912</span> │\n",
              "├──────────────────────────────────────┼─────────────────────────────┼─────────────────┤\n",
              "│ dropout_4 (<span style=\"color: #0087ff; text-decoration-color: #0087ff\">Dropout</span>)                  │ (<span style=\"color: #00d7ff; text-decoration-color: #00d7ff\">None</span>, <span style=\"color: #00af00; text-decoration-color: #00af00\">50</span>, <span style=\"color: #00af00; text-decoration-color: #00af00\">256</span>)             │               <span style=\"color: #00af00; text-decoration-color: #00af00\">0</span> │\n",
              "├──────────────────────────────────────┼─────────────────────────────┼─────────────────┤\n",
              "│ gru_1 (<span style=\"color: #0087ff; text-decoration-color: #0087ff\">GRU</span>)                          │ (<span style=\"color: #00d7ff; text-decoration-color: #00d7ff\">None</span>, <span style=\"color: #00af00; text-decoration-color: #00af00\">256</span>)                 │         <span style=\"color: #00af00; text-decoration-color: #00af00\">394,752</span> │\n",
              "├──────────────────────────────────────┼─────────────────────────────┼─────────────────┤\n",
              "│ dropout_5 (<span style=\"color: #0087ff; text-decoration-color: #0087ff\">Dropout</span>)                  │ (<span style=\"color: #00d7ff; text-decoration-color: #00d7ff\">None</span>, <span style=\"color: #00af00; text-decoration-color: #00af00\">256</span>)                 │               <span style=\"color: #00af00; text-decoration-color: #00af00\">0</span> │\n",
              "├──────────────────────────────────────┼─────────────────────────────┼─────────────────┤\n",
              "│ dense_4 (<span style=\"color: #0087ff; text-decoration-color: #0087ff\">Dense</span>)                      │ (<span style=\"color: #00d7ff; text-decoration-color: #00d7ff\">None</span>, <span style=\"color: #00af00; text-decoration-color: #00af00\">256</span>)                 │          <span style=\"color: #00af00; text-decoration-color: #00af00\">65,792</span> │\n",
              "├──────────────────────────────────────┼─────────────────────────────┼─────────────────┤\n",
              "│ dense_5 (<span style=\"color: #0087ff; text-decoration-color: #0087ff\">Dense</span>)                      │ (<span style=\"color: #00d7ff; text-decoration-color: #00d7ff\">None</span>, <span style=\"color: #00af00; text-decoration-color: #00af00\">76</span>)                  │          <span style=\"color: #00af00; text-decoration-color: #00af00\">19,532</span> │\n",
              "└──────────────────────────────────────┴─────────────────────────────┴─────────────────┘\n",
              "</pre>\n"
            ]
          },
          "metadata": {}
        },
        {
          "output_type": "display_data",
          "data": {
            "text/plain": [
              "\u001b[1m Total params: \u001b[0m\u001b[38;5;34m678,988\u001b[0m (2.59 MB)\n"
            ],
            "text/html": [
              "<pre style=\"white-space:pre;overflow-x:auto;line-height:normal;font-family:Menlo,'DejaVu Sans Mono',consolas,'Courier New',monospace\"><span style=\"font-weight: bold\"> Total params: </span><span style=\"color: #00af00; text-decoration-color: #00af00\">678,988</span> (2.59 MB)\n",
              "</pre>\n"
            ]
          },
          "metadata": {}
        },
        {
          "output_type": "display_data",
          "data": {
            "text/plain": [
              "\u001b[1m Trainable params: \u001b[0m\u001b[38;5;34m678,988\u001b[0m (2.59 MB)\n"
            ],
            "text/html": [
              "<pre style=\"white-space:pre;overflow-x:auto;line-height:normal;font-family:Menlo,'DejaVu Sans Mono',consolas,'Courier New',monospace\"><span style=\"font-weight: bold\"> Trainable params: </span><span style=\"color: #00af00; text-decoration-color: #00af00\">678,988</span> (2.59 MB)\n",
              "</pre>\n"
            ]
          },
          "metadata": {}
        },
        {
          "output_type": "display_data",
          "data": {
            "text/plain": [
              "\u001b[1m Non-trainable params: \u001b[0m\u001b[38;5;34m0\u001b[0m (0.00 B)\n"
            ],
            "text/html": [
              "<pre style=\"white-space:pre;overflow-x:auto;line-height:normal;font-family:Menlo,'DejaVu Sans Mono',consolas,'Courier New',monospace\"><span style=\"font-weight: bold\"> Non-trainable params: </span><span style=\"color: #00af00; text-decoration-color: #00af00\">0</span> (0.00 B)\n",
              "</pre>\n"
            ]
          },
          "metadata": {}
        }
      ]
    },
    {
      "cell_type": "code",
      "execution_count": null,
      "metadata": {
        "colab": {
          "base_uri": "https://localhost:8080/",
          "height": 1000
        },
        "id": "8gDr7zIx9eih",
        "outputId": "457231bc-d8b0-42c4-c5df-971d55bef660"
      },
      "outputs": [
        {
          "output_type": "stream",
          "name": "stdout",
          "text": [
            "Epoch 1/80\n",
            "\u001b[1m405/405\u001b[0m \u001b[32m━━━━━━━━━━━━━━━━━━━━\u001b[0m\u001b[37m\u001b[0m \u001b[1m12s\u001b[0m 17ms/step - accuracy: 0.6588 - loss: 1.7965 - val_accuracy: 0.6574 - val_loss: 1.4263\n",
            "Epoch 2/80\n",
            "\u001b[1m405/405\u001b[0m \u001b[32m━━━━━━━━━━━━━━━━━━━━\u001b[0m\u001b[37m\u001b[0m \u001b[1m17s\u001b[0m 18ms/step - accuracy: 0.6637 - loss: 1.3844 - val_accuracy: 0.6646 - val_loss: 1.3666\n",
            "Epoch 3/80\n",
            "\u001b[1m405/405\u001b[0m \u001b[32m━━━━━━━━━━━━━━━━━━━━\u001b[0m\u001b[37m\u001b[0m \u001b[1m7s\u001b[0m 17ms/step - accuracy: 0.6698 - loss: 1.3371 - val_accuracy: 0.6692 - val_loss: 1.3307\n",
            "Epoch 4/80\n",
            "\u001b[1m405/405\u001b[0m \u001b[32m━━━━━━━━━━━━━━━━━━━━\u001b[0m\u001b[37m\u001b[0m \u001b[1m10s\u001b[0m 17ms/step - accuracy: 0.6761 - loss: 1.2967 - val_accuracy: 0.6745 - val_loss: 1.3042\n",
            "Epoch 5/80\n",
            "\u001b[1m405/405\u001b[0m \u001b[32m━━━━━━━━━━━━━━━━━━━━\u001b[0m\u001b[37m\u001b[0m \u001b[1m7s\u001b[0m 16ms/step - accuracy: 0.6809 - loss: 1.2634 - val_accuracy: 0.6796 - val_loss: 1.2658\n",
            "Epoch 6/80\n",
            "\u001b[1m405/405\u001b[0m \u001b[32m━━━━━━━━━━━━━━━━━━━━\u001b[0m\u001b[37m\u001b[0m \u001b[1m11s\u001b[0m 17ms/step - accuracy: 0.6875 - loss: 1.2161 - val_accuracy: 0.6885 - val_loss: 1.2164\n",
            "Epoch 7/80\n",
            "\u001b[1m405/405\u001b[0m \u001b[32m━━━━━━━━━━━━━━━━━━━━\u001b[0m\u001b[37m\u001b[0m \u001b[1m10s\u001b[0m 17ms/step - accuracy: 0.6978 - loss: 1.1643 - val_accuracy: 0.6949 - val_loss: 1.1830\n",
            "Epoch 8/80\n",
            "\u001b[1m405/405\u001b[0m \u001b[32m━━━━━━━━━━━━━━━━━━━━\u001b[0m\u001b[37m\u001b[0m \u001b[1m7s\u001b[0m 17ms/step - accuracy: 0.7113 - loss: 1.0971 - val_accuracy: 0.7039 - val_loss: 1.1410\n",
            "Epoch 9/80\n",
            "\u001b[1m405/405\u001b[0m \u001b[32m━━━━━━━━━━━━━━━━━━━━\u001b[0m\u001b[37m\u001b[0m \u001b[1m10s\u001b[0m 17ms/step - accuracy: 0.7201 - loss: 1.0413 - val_accuracy: 0.7138 - val_loss: 1.0958\n",
            "Epoch 10/80\n",
            "\u001b[1m405/405\u001b[0m \u001b[32m━━━━━━━━━━━━━━━━━━━━\u001b[0m\u001b[37m\u001b[0m \u001b[1m7s\u001b[0m 18ms/step - accuracy: 0.7295 - loss: 0.9972 - val_accuracy: 0.7192 - val_loss: 1.0706\n",
            "Epoch 11/80\n",
            "\u001b[1m405/405\u001b[0m \u001b[32m━━━━━━━━━━━━━━━━━━━━\u001b[0m\u001b[37m\u001b[0m \u001b[1m10s\u001b[0m 18ms/step - accuracy: 0.7436 - loss: 0.9402 - val_accuracy: 0.7256 - val_loss: 1.0459\n",
            "Epoch 12/80\n",
            "\u001b[1m405/405\u001b[0m \u001b[32m━━━━━━━━━━━━━━━━━━━━\u001b[0m\u001b[37m\u001b[0m \u001b[1m10s\u001b[0m 17ms/step - accuracy: 0.7550 - loss: 0.8952 - val_accuracy: 0.7309 - val_loss: 1.0206\n",
            "Epoch 13/80\n",
            "\u001b[1m405/405\u001b[0m \u001b[32m━━━━━━━━━━━━━━━━━━━━\u001b[0m\u001b[37m\u001b[0m \u001b[1m7s\u001b[0m 18ms/step - accuracy: 0.7621 - loss: 0.8576 - val_accuracy: 0.7394 - val_loss: 0.9900\n",
            "Epoch 14/80\n",
            "\u001b[1m405/405\u001b[0m \u001b[32m━━━━━━━━━━━━━━━━━━━━\u001b[0m\u001b[37m\u001b[0m \u001b[1m10s\u001b[0m 18ms/step - accuracy: 0.7749 - loss: 0.8094 - val_accuracy: 0.7453 - val_loss: 0.9678\n",
            "Epoch 15/80\n",
            "\u001b[1m405/405\u001b[0m \u001b[32m━━━━━━━━━━━━━━━━━━━━\u001b[0m\u001b[37m\u001b[0m \u001b[1m7s\u001b[0m 17ms/step - accuracy: 0.7802 - loss: 0.7777 - val_accuracy: 0.7515 - val_loss: 0.9456\n",
            "Epoch 16/80\n",
            "\u001b[1m405/405\u001b[0m \u001b[32m━━━━━━━━━━━━━━━━━━━━\u001b[0m\u001b[37m\u001b[0m \u001b[1m7s\u001b[0m 18ms/step - accuracy: 0.7900 - loss: 0.7430 - val_accuracy: 0.7555 - val_loss: 0.9328\n",
            "Epoch 17/80\n",
            "\u001b[1m405/405\u001b[0m \u001b[32m━━━━━━━━━━━━━━━━━━━━\u001b[0m\u001b[37m\u001b[0m \u001b[1m10s\u001b[0m 17ms/step - accuracy: 0.7944 - loss: 0.7151 - val_accuracy: 0.7616 - val_loss: 0.9204\n",
            "Epoch 18/80\n",
            "\u001b[1m405/405\u001b[0m \u001b[32m━━━━━━━━━━━━━━━━━━━━\u001b[0m\u001b[37m\u001b[0m \u001b[1m7s\u001b[0m 17ms/step - accuracy: 0.8025 - loss: 0.6888 - val_accuracy: 0.7709 - val_loss: 0.8989\n",
            "Epoch 19/80\n",
            "\u001b[1m405/405\u001b[0m \u001b[32m━━━━━━━━━━━━━━━━━━━━\u001b[0m\u001b[37m\u001b[0m \u001b[1m11s\u001b[0m 18ms/step - accuracy: 0.8131 - loss: 0.6486 - val_accuracy: 0.7700 - val_loss: 0.8969\n",
            "Epoch 20/80\n",
            "\u001b[1m405/405\u001b[0m \u001b[32m━━━━━━━━━━━━━━━━━━━━\u001b[0m\u001b[37m\u001b[0m \u001b[1m7s\u001b[0m 17ms/step - accuracy: 0.8159 - loss: 0.6283 - val_accuracy: 0.7797 - val_loss: 0.8733\n",
            "Epoch 21/80\n",
            "\u001b[1m405/405\u001b[0m \u001b[32m━━━━━━━━━━━━━━━━━━━━\u001b[0m\u001b[37m\u001b[0m \u001b[1m10s\u001b[0m 17ms/step - accuracy: 0.8275 - loss: 0.5885 - val_accuracy: 0.7805 - val_loss: 0.8657\n",
            "Epoch 22/80\n",
            "\u001b[1m405/405\u001b[0m \u001b[32m━━━━━━━━━━━━━━━━━━━━\u001b[0m\u001b[37m\u001b[0m \u001b[1m7s\u001b[0m 18ms/step - accuracy: 0.8292 - loss: 0.5825 - val_accuracy: 0.7843 - val_loss: 0.8607\n",
            "Epoch 23/80\n",
            "\u001b[1m405/405\u001b[0m \u001b[32m━━━━━━━━━━━━━━━━━━━━\u001b[0m\u001b[37m\u001b[0m \u001b[1m7s\u001b[0m 17ms/step - accuracy: 0.8339 - loss: 0.5668 - val_accuracy: 0.7854 - val_loss: 0.8535\n",
            "Epoch 24/80\n",
            "\u001b[1m405/405\u001b[0m \u001b[32m━━━━━━━━━━━━━━━━━━━━\u001b[0m\u001b[37m\u001b[0m \u001b[1m10s\u001b[0m 17ms/step - accuracy: 0.8413 - loss: 0.5414 - val_accuracy: 0.7909 - val_loss: 0.8437\n",
            "Epoch 25/80\n",
            "\u001b[1m405/405\u001b[0m \u001b[32m━━━━━━━━━━━━━━━━━━━━\u001b[0m\u001b[37m\u001b[0m \u001b[1m7s\u001b[0m 18ms/step - accuracy: 0.8458 - loss: 0.5295 - val_accuracy: 0.7961 - val_loss: 0.8276\n",
            "Epoch 26/80\n",
            "\u001b[1m405/405\u001b[0m \u001b[32m━━━━━━━━━━━━━━━━━━━━\u001b[0m\u001b[37m\u001b[0m \u001b[1m10s\u001b[0m 17ms/step - accuracy: 0.8512 - loss: 0.5056 - val_accuracy: 0.7978 - val_loss: 0.8407\n",
            "Epoch 27/80\n",
            "\u001b[1m405/405\u001b[0m \u001b[32m━━━━━━━━━━━━━━━━━━━━\u001b[0m\u001b[37m\u001b[0m \u001b[1m10s\u001b[0m 17ms/step - accuracy: 0.8548 - loss: 0.4863 - val_accuracy: 0.8030 - val_loss: 0.8228\n",
            "Epoch 28/80\n",
            "\u001b[1m405/405\u001b[0m \u001b[32m━━━━━━━━━━━━━━━━━━━━\u001b[0m\u001b[37m\u001b[0m \u001b[1m10s\u001b[0m 17ms/step - accuracy: 0.8583 - loss: 0.4737 - val_accuracy: 0.8053 - val_loss: 0.8259\n",
            "Epoch 29/80\n",
            "\u001b[1m405/405\u001b[0m \u001b[32m━━━━━━━━━━━━━━━━━━━━\u001b[0m\u001b[37m\u001b[0m \u001b[1m11s\u001b[0m 18ms/step - accuracy: 0.8623 - loss: 0.4625 - val_accuracy: 0.8050 - val_loss: 0.8339\n",
            "Epoch 30/80\n",
            "\u001b[1m405/405\u001b[0m \u001b[32m━━━━━━━━━━━━━━━━━━━━\u001b[0m\u001b[37m\u001b[0m \u001b[1m10s\u001b[0m 18ms/step - accuracy: 0.8644 - loss: 0.4507 - val_accuracy: 0.8067 - val_loss: 0.8240\n",
            "Epoch 31/80\n",
            "\u001b[1m405/405\u001b[0m \u001b[32m━━━━━━━━━━━━━━━━━━━━\u001b[0m\u001b[37m\u001b[0m \u001b[1m7s\u001b[0m 17ms/step - accuracy: 0.8678 - loss: 0.4426 - val_accuracy: 0.8115 - val_loss: 0.8093\n",
            "Epoch 32/80\n",
            "\u001b[1m405/405\u001b[0m \u001b[32m━━━━━━━━━━━━━━━━━━━━\u001b[0m\u001b[37m\u001b[0m \u001b[1m11s\u001b[0m 18ms/step - accuracy: 0.8720 - loss: 0.4218 - val_accuracy: 0.8138 - val_loss: 0.8113\n",
            "Epoch 33/80\n",
            "\u001b[1m405/405\u001b[0m \u001b[32m━━━━━━━━━━━━━━━━━━━━\u001b[0m\u001b[37m\u001b[0m \u001b[1m7s\u001b[0m 17ms/step - accuracy: 0.8742 - loss: 0.4131 - val_accuracy: 0.8169 - val_loss: 0.8066\n",
            "Epoch 34/80\n",
            "\u001b[1m405/405\u001b[0m \u001b[32m━━━━━━━━━━━━━━━━━━━━\u001b[0m\u001b[37m\u001b[0m \u001b[1m10s\u001b[0m 17ms/step - accuracy: 0.8725 - loss: 0.4117 - val_accuracy: 0.8160 - val_loss: 0.8035\n",
            "Epoch 35/80\n",
            "\u001b[1m405/405\u001b[0m \u001b[32m━━━━━━━━━━━━━━━━━━━━\u001b[0m\u001b[37m\u001b[0m \u001b[1m10s\u001b[0m 17ms/step - accuracy: 0.8809 - loss: 0.3955 - val_accuracy: 0.8175 - val_loss: 0.8081\n",
            "Epoch 36/80\n",
            "\u001b[1m405/405\u001b[0m \u001b[32m━━━━━━━━━━━━━━━━━━━━\u001b[0m\u001b[37m\u001b[0m \u001b[1m11s\u001b[0m 18ms/step - accuracy: 0.8802 - loss: 0.3952 - val_accuracy: 0.8211 - val_loss: 0.8168\n",
            "Epoch 37/80\n",
            "\u001b[1m405/405\u001b[0m \u001b[32m━━━━━━━━━━━━━━━━━━━━\u001b[0m\u001b[37m\u001b[0m \u001b[1m10s\u001b[0m 18ms/step - accuracy: 0.8823 - loss: 0.3826 - val_accuracy: 0.8232 - val_loss: 0.8219\n",
            "Epoch 38/80\n",
            "\u001b[1m405/405\u001b[0m \u001b[32m━━━━━━━━━━━━━━━━━━━━\u001b[0m\u001b[37m\u001b[0m \u001b[1m10s\u001b[0m 18ms/step - accuracy: 0.8875 - loss: 0.3678 - val_accuracy: 0.8237 - val_loss: 0.8138\n",
            "Epoch 39/80\n",
            "\u001b[1m405/405\u001b[0m \u001b[32m━━━━━━━━━━━━━━━━━━━━\u001b[0m\u001b[37m\u001b[0m \u001b[1m7s\u001b[0m 18ms/step - accuracy: 0.8866 - loss: 0.3652 - val_accuracy: 0.8255 - val_loss: 0.8099\n",
            "Epoch 40/80\n",
            "\u001b[1m405/405\u001b[0m \u001b[32m━━━━━━━━━━━━━━━━━━━━\u001b[0m\u001b[37m\u001b[0m \u001b[1m10s\u001b[0m 18ms/step - accuracy: 0.8870 - loss: 0.3604 - val_accuracy: 0.8254 - val_loss: 0.8133\n",
            "Epoch 41/80\n",
            "\u001b[1m405/405\u001b[0m \u001b[32m━━━━━━━━━━━━━━━━━━━━\u001b[0m\u001b[37m\u001b[0m \u001b[1m10s\u001b[0m 18ms/step - accuracy: 0.8894 - loss: 0.3557 - val_accuracy: 0.8261 - val_loss: 0.8154\n",
            "Epoch 42/80\n",
            "\u001b[1m405/405\u001b[0m \u001b[32m━━━━━━━━━━━━━━━━━━━━\u001b[0m\u001b[37m\u001b[0m \u001b[1m7s\u001b[0m 17ms/step - accuracy: 0.8935 - loss: 0.3416 - val_accuracy: 0.8299 - val_loss: 0.8110\n",
            "Epoch 43/80\n",
            "\u001b[1m405/405\u001b[0m \u001b[32m━━━━━━━━━━━━━━━━━━━━\u001b[0m\u001b[37m\u001b[0m \u001b[1m11s\u001b[0m 18ms/step - accuracy: 0.8954 - loss: 0.3336 - val_accuracy: 0.8296 - val_loss: 0.8249\n",
            "Epoch 44/80\n",
            "\u001b[1m405/405\u001b[0m \u001b[32m━━━━━━━━━━━━━━━━━━━━\u001b[0m\u001b[37m\u001b[0m \u001b[1m7s\u001b[0m 17ms/step - accuracy: 0.8964 - loss: 0.3371 - val_accuracy: 0.8323 - val_loss: 0.8176\n",
            "Epoch 45/80\n",
            "\u001b[1m405/405\u001b[0m \u001b[32m━━━━━━━━━━━━━━━━━━━━\u001b[0m\u001b[37m\u001b[0m \u001b[1m7s\u001b[0m 18ms/step - accuracy: 0.9013 - loss: 0.3191 - val_accuracy: 0.8317 - val_loss: 0.8276\n",
            "Epoch 46/80\n",
            "\u001b[1m405/405\u001b[0m \u001b[32m━━━━━━━━━━━━━━━━━━━━\u001b[0m\u001b[37m\u001b[0m \u001b[1m7s\u001b[0m 17ms/step - accuracy: 0.8986 - loss: 0.3284 - val_accuracy: 0.8335 - val_loss: 0.8226\n",
            "Epoch 47/80\n",
            "\u001b[1m405/405\u001b[0m \u001b[32m━━━━━━━━━━━━━━━━━━━━\u001b[0m\u001b[37m\u001b[0m \u001b[1m10s\u001b[0m 17ms/step - accuracy: 0.8994 - loss: 0.3245 - val_accuracy: 0.8356 - val_loss: 0.8227\n",
            "Epoch 48/80\n",
            "\u001b[1m405/405\u001b[0m \u001b[32m━━━━━━━━━━━━━━━━━━━━\u001b[0m\u001b[37m\u001b[0m \u001b[1m10s\u001b[0m 17ms/step - accuracy: 0.9012 - loss: 0.3177 - val_accuracy: 0.8382 - val_loss: 0.8093\n",
            "Epoch 49/80\n",
            "\u001b[1m405/405\u001b[0m \u001b[32m━━━━━━━━━━━━━━━━━━━━\u001b[0m\u001b[37m\u001b[0m \u001b[1m10s\u001b[0m 18ms/step - accuracy: 0.9036 - loss: 0.3084 - val_accuracy: 0.8399 - val_loss: 0.8102\n",
            "Epoch 50/80\n",
            "\u001b[1m405/405\u001b[0m \u001b[32m━━━━━━━━━━━━━━━━━━━━\u001b[0m\u001b[37m\u001b[0m \u001b[1m10s\u001b[0m 18ms/step - accuracy: 0.9029 - loss: 0.3109 - val_accuracy: 0.8384 - val_loss: 0.8199\n",
            "Epoch 51/80\n",
            "\u001b[1m405/405\u001b[0m \u001b[32m━━━━━━━━━━━━━━━━━━━━\u001b[0m\u001b[37m\u001b[0m \u001b[1m10s\u001b[0m 17ms/step - accuracy: 0.9056 - loss: 0.3005 - val_accuracy: 0.8392 - val_loss: 0.8244\n",
            "Epoch 52/80\n",
            "\u001b[1m405/405\u001b[0m \u001b[32m━━━━━━━━━━━━━━━━━━━━\u001b[0m\u001b[37m\u001b[0m \u001b[1m10s\u001b[0m 17ms/step - accuracy: 0.9082 - loss: 0.2939 - val_accuracy: 0.8399 - val_loss: 0.8326\n",
            "Epoch 53/80\n",
            "\u001b[1m405/405\u001b[0m \u001b[32m━━━━━━━━━━━━━━━━━━━━\u001b[0m\u001b[37m\u001b[0m \u001b[1m10s\u001b[0m 18ms/step - accuracy: 0.9065 - loss: 0.3002 - val_accuracy: 0.8400 - val_loss: 0.8322\n",
            "Epoch 54/80\n",
            "\u001b[1m405/405\u001b[0m \u001b[32m━━━━━━━━━━━━━━━━━━━━\u001b[0m\u001b[37m\u001b[0m \u001b[1m7s\u001b[0m 18ms/step - accuracy: 0.9103 - loss: 0.2840 - val_accuracy: 0.8396 - val_loss: 0.8386\n",
            "Epoch 55/80\n",
            "\u001b[1m405/405\u001b[0m \u001b[32m━━━━━━━━━━━━━━━━━━━━\u001b[0m\u001b[37m\u001b[0m \u001b[1m10s\u001b[0m 17ms/step - accuracy: 0.9087 - loss: 0.2896 - val_accuracy: 0.8437 - val_loss: 0.8396\n",
            "Epoch 56/80\n",
            "\u001b[1m405/405\u001b[0m \u001b[32m━━━━━━━━━━━━━━━━━━━━\u001b[0m\u001b[37m\u001b[0m \u001b[1m10s\u001b[0m 17ms/step - accuracy: 0.9117 - loss: 0.2813 - val_accuracy: 0.8434 - val_loss: 0.8376\n",
            "Epoch 57/80\n",
            "\u001b[1m405/405\u001b[0m \u001b[32m━━━━━━━━━━━━━━━━━━━━\u001b[0m\u001b[37m\u001b[0m \u001b[1m7s\u001b[0m 18ms/step - accuracy: 0.9096 - loss: 0.2853 - val_accuracy: 0.8397 - val_loss: 0.8551\n",
            "Epoch 58/80\n",
            "\u001b[1m405/405\u001b[0m \u001b[32m━━━━━━━━━━━━━━━━━━━━\u001b[0m\u001b[37m\u001b[0m \u001b[1m7s\u001b[0m 17ms/step - accuracy: 0.9109 - loss: 0.2850 - val_accuracy: 0.8433 - val_loss: 0.8624\n",
            "Epoch 59/80\n",
            "\u001b[1m405/405\u001b[0m \u001b[32m━━━━━━━━━━━━━━━━━━━━\u001b[0m\u001b[37m\u001b[0m \u001b[1m10s\u001b[0m 17ms/step - accuracy: 0.9132 - loss: 0.2742 - val_accuracy: 0.8427 - val_loss: 0.8461\n",
            "Epoch 60/80\n",
            "\u001b[1m405/405\u001b[0m \u001b[32m━━━━━━━━━━━━━━━━━━━━\u001b[0m\u001b[37m\u001b[0m \u001b[1m11s\u001b[0m 18ms/step - accuracy: 0.9139 - loss: 0.2770 - val_accuracy: 0.8446 - val_loss: 0.8456\n",
            "Epoch 61/80\n",
            "\u001b[1m405/405\u001b[0m \u001b[32m━━━━━━━━━━━━━━━━━━━━\u001b[0m\u001b[37m\u001b[0m \u001b[1m7s\u001b[0m 17ms/step - accuracy: 0.9151 - loss: 0.2721 - val_accuracy: 0.8465 - val_loss: 0.8446\n",
            "Epoch 62/80\n",
            "\u001b[1m405/405\u001b[0m \u001b[32m━━━━━━━━━━━━━━━━━━━━\u001b[0m\u001b[37m\u001b[0m \u001b[1m10s\u001b[0m 17ms/step - accuracy: 0.9116 - loss: 0.2794 - val_accuracy: 0.8477 - val_loss: 0.8346\n",
            "Epoch 63/80\n",
            "\u001b[1m405/405\u001b[0m \u001b[32m━━━━━━━━━━━━━━━━━━━━\u001b[0m\u001b[37m\u001b[0m \u001b[1m7s\u001b[0m 18ms/step - accuracy: 0.9156 - loss: 0.2664 - val_accuracy: 0.8464 - val_loss: 0.8556\n",
            "Epoch 64/80\n",
            "\u001b[1m405/405\u001b[0m \u001b[32m━━━━━━━━━━━━━━━━━━━━\u001b[0m\u001b[37m\u001b[0m \u001b[1m7s\u001b[0m 17ms/step - accuracy: 0.9150 - loss: 0.2657 - val_accuracy: 0.8442 - val_loss: 0.8616\n",
            "Epoch 65/80\n",
            "\u001b[1m405/405\u001b[0m \u001b[32m━━━━━━━━━━━━━━━━━━━━\u001b[0m\u001b[37m\u001b[0m \u001b[1m10s\u001b[0m 17ms/step - accuracy: 0.9134 - loss: 0.2730 - val_accuracy: 0.8468 - val_loss: 0.8466\n",
            "Epoch 66/80\n",
            "\u001b[1m405/405\u001b[0m \u001b[32m━━━━━━━━━━━━━━━━━━━━\u001b[0m\u001b[37m\u001b[0m \u001b[1m10s\u001b[0m 18ms/step - accuracy: 0.9168 - loss: 0.2640 - val_accuracy: 0.8471 - val_loss: 0.8661\n",
            "Epoch 67/80\n",
            "\u001b[1m405/405\u001b[0m \u001b[32m━━━━━━━━━━━━━━━━━━━━\u001b[0m\u001b[37m\u001b[0m \u001b[1m7s\u001b[0m 17ms/step - accuracy: 0.9155 - loss: 0.2638 - val_accuracy: 0.8486 - val_loss: 0.8578\n",
            "Epoch 68/80\n",
            "\u001b[1m405/405\u001b[0m \u001b[32m━━━━━━━━━━━━━━━━━━━━\u001b[0m\u001b[37m\u001b[0m \u001b[1m10s\u001b[0m 17ms/step - accuracy: 0.9194 - loss: 0.2593 - val_accuracy: 0.8504 - val_loss: 0.8686\n",
            "Epoch 69/80\n",
            "\u001b[1m405/405\u001b[0m \u001b[32m━━━━━━━━━━━━━━━━━━━━\u001b[0m\u001b[37m\u001b[0m \u001b[1m7s\u001b[0m 18ms/step - accuracy: 0.9214 - loss: 0.2510 - val_accuracy: 0.8507 - val_loss: 0.8649\n",
            "Epoch 70/80\n",
            "\u001b[1m405/405\u001b[0m \u001b[32m━━━━━━━━━━━━━━━━━━━━\u001b[0m\u001b[37m\u001b[0m \u001b[1m7s\u001b[0m 17ms/step - accuracy: 0.9182 - loss: 0.2605 - val_accuracy: 0.8482 - val_loss: 0.8699\n",
            "Epoch 71/80\n",
            "\u001b[1m405/405\u001b[0m \u001b[32m━━━━━━━━━━━━━━━━━━━━\u001b[0m\u001b[37m\u001b[0m \u001b[1m10s\u001b[0m 17ms/step - accuracy: 0.9182 - loss: 0.2569 - val_accuracy: 0.8504 - val_loss: 0.8983\n",
            "Epoch 72/80\n",
            "\u001b[1m405/405\u001b[0m \u001b[32m━━━━━━━━━━━━━━━━━━━━\u001b[0m\u001b[37m\u001b[0m \u001b[1m7s\u001b[0m 18ms/step - accuracy: 0.9164 - loss: 0.2613 - val_accuracy: 0.8481 - val_loss: 0.8916\n",
            "Epoch 73/80\n",
            "\u001b[1m405/405\u001b[0m \u001b[32m━━━━━━━━━━━━━━━━━━━━\u001b[0m\u001b[37m\u001b[0m \u001b[1m10s\u001b[0m 18ms/step - accuracy: 0.9174 - loss: 0.2580 - val_accuracy: 0.8475 - val_loss: 0.8993\n",
            "Epoch 74/80\n",
            "\u001b[1m405/405\u001b[0m \u001b[32m━━━━━━━━━━━━━━━━━━━━\u001b[0m\u001b[37m\u001b[0m \u001b[1m7s\u001b[0m 17ms/step - accuracy: 0.9219 - loss: 0.2513 - val_accuracy: 0.8502 - val_loss: 0.8914\n",
            "Epoch 75/80\n",
            "\u001b[1m405/405\u001b[0m \u001b[32m━━━━━━━━━━━━━━━━━━━━\u001b[0m\u001b[37m\u001b[0m \u001b[1m11s\u001b[0m 18ms/step - accuracy: 0.9193 - loss: 0.2521 - val_accuracy: 0.8479 - val_loss: 0.8927\n",
            "Epoch 76/80\n",
            "\u001b[1m405/405\u001b[0m \u001b[32m━━━━━━━━━━━━━━━━━━━━\u001b[0m\u001b[37m\u001b[0m \u001b[1m7s\u001b[0m 17ms/step - accuracy: 0.9181 - loss: 0.2569 - val_accuracy: 0.8493 - val_loss: 0.8897\n",
            "Epoch 77/80\n",
            "\u001b[1m405/405\u001b[0m \u001b[32m━━━━━━━━━━━━━━━━━━━━\u001b[0m\u001b[37m\u001b[0m \u001b[1m7s\u001b[0m 18ms/step - accuracy: 0.9173 - loss: 0.2628 - val_accuracy: 0.8549 - val_loss: 0.8667\n",
            "Epoch 78/80\n",
            "\u001b[1m405/405\u001b[0m \u001b[32m━━━━━━━━━━━━━━━━━━━━\u001b[0m\u001b[37m\u001b[0m \u001b[1m7s\u001b[0m 17ms/step - accuracy: 0.9186 - loss: 0.2508 - val_accuracy: 0.8519 - val_loss: 0.9006\n",
            "Epoch 79/80\n",
            "\u001b[1m405/405\u001b[0m \u001b[32m━━━━━━━━━━━━━━━━━━━━\u001b[0m\u001b[37m\u001b[0m \u001b[1m7s\u001b[0m 18ms/step - accuracy: 0.9223 - loss: 0.2434 - val_accuracy: 0.8526 - val_loss: 0.8979\n",
            "Epoch 80/80\n",
            "\u001b[1m405/405\u001b[0m \u001b[32m━━━━━━━━━━━━━━━━━━━━\u001b[0m\u001b[37m\u001b[0m \u001b[1m10s\u001b[0m 18ms/step - accuracy: 0.9207 - loss: 0.2543 - val_accuracy: 0.8537 - val_loss: 0.8872\n"
          ]
        },
        {
          "output_type": "error",
          "ename": "ValueError",
          "evalue": "Invalid filepath extension for saving. Please add either a `.keras` extension for the native Keras format (recommended) or a `.h5` extension. Use `model.export(filepath)` if you want to export a SavedModel for use with TFLite/TFServing/etc. Received: filepath=MOD_GRU.",
          "traceback": [
            "\u001b[0;31m---------------------------------------------------------------------------\u001b[0m",
            "\u001b[0;31mValueError\u001b[0m                                Traceback (most recent call last)",
            "\u001b[0;32m<ipython-input-13-70c167bea7a6>\u001b[0m in \u001b[0;36m<cell line: 8>\u001b[0;34m()\u001b[0m\n\u001b[1;32m      6\u001b[0m \u001b[0;34m\u001b[0m\u001b[0m\n\u001b[1;32m      7\u001b[0m \u001b[0;31m#saving model\u001b[0m\u001b[0;34m\u001b[0m\u001b[0;34m\u001b[0m\u001b[0m\n\u001b[0;32m----> 8\u001b[0;31m \u001b[0mmodel_GRU\u001b[0m\u001b[0;34m.\u001b[0m\u001b[0msave\u001b[0m\u001b[0;34m(\u001b[0m\u001b[0;34m\"MOD_GRU\"\u001b[0m\u001b[0;34m)\u001b[0m\u001b[0;34m\u001b[0m\u001b[0;34m\u001b[0m\u001b[0m\n\u001b[0m\u001b[1;32m      9\u001b[0m \u001b[0;34m\u001b[0m\u001b[0m\n",
            "\u001b[0;32m/usr/local/lib/python3.10/dist-packages/keras/src/utils/traceback_utils.py\u001b[0m in \u001b[0;36merror_handler\u001b[0;34m(*args, **kwargs)\u001b[0m\n\u001b[1;32m    120\u001b[0m             \u001b[0;31m# To get the full stack trace, call:\u001b[0m\u001b[0;34m\u001b[0m\u001b[0;34m\u001b[0m\u001b[0m\n\u001b[1;32m    121\u001b[0m             \u001b[0;31m# `keras.config.disable_traceback_filtering()`\u001b[0m\u001b[0;34m\u001b[0m\u001b[0;34m\u001b[0m\u001b[0m\n\u001b[0;32m--> 122\u001b[0;31m             \u001b[0;32mraise\u001b[0m \u001b[0me\u001b[0m\u001b[0;34m.\u001b[0m\u001b[0mwith_traceback\u001b[0m\u001b[0;34m(\u001b[0m\u001b[0mfiltered_tb\u001b[0m\u001b[0;34m)\u001b[0m \u001b[0;32mfrom\u001b[0m \u001b[0;32mNone\u001b[0m\u001b[0;34m\u001b[0m\u001b[0;34m\u001b[0m\u001b[0m\n\u001b[0m\u001b[1;32m    123\u001b[0m         \u001b[0;32mfinally\u001b[0m\u001b[0;34m:\u001b[0m\u001b[0;34m\u001b[0m\u001b[0;34m\u001b[0m\u001b[0m\n\u001b[1;32m    124\u001b[0m             \u001b[0;32mdel\u001b[0m \u001b[0mfiltered_tb\u001b[0m\u001b[0;34m\u001b[0m\u001b[0;34m\u001b[0m\u001b[0m\n",
            "\u001b[0;32m/usr/local/lib/python3.10/dist-packages/keras/src/saving/saving_api.py\u001b[0m in \u001b[0;36msave_model\u001b[0;34m(model, filepath, overwrite, zipped, **kwargs)\u001b[0m\n\u001b[1;32m    107\u001b[0m             \u001b[0mmodel\u001b[0m\u001b[0;34m,\u001b[0m \u001b[0mfilepath\u001b[0m\u001b[0;34m,\u001b[0m \u001b[0moverwrite\u001b[0m\u001b[0;34m,\u001b[0m \u001b[0minclude_optimizer\u001b[0m\u001b[0;34m\u001b[0m\u001b[0;34m\u001b[0m\u001b[0m\n\u001b[1;32m    108\u001b[0m         )\n\u001b[0;32m--> 109\u001b[0;31m     raise ValueError(\n\u001b[0m\u001b[1;32m    110\u001b[0m         \u001b[0;34m\"Invalid filepath extension for saving. \"\u001b[0m\u001b[0;34m\u001b[0m\u001b[0;34m\u001b[0m\u001b[0m\n\u001b[1;32m    111\u001b[0m         \u001b[0;34m\"Please add either a `.keras` extension for the native Keras \"\u001b[0m\u001b[0;34m\u001b[0m\u001b[0;34m\u001b[0m\u001b[0m\n",
            "\u001b[0;31mValueError\u001b[0m: Invalid filepath extension for saving. Please add either a `.keras` extension for the native Keras format (recommended) or a `.h5` extension. Use `model.export(filepath)` if you want to export a SavedModel for use with TFLite/TFServing/etc. Received: filepath=MOD_GRU."
          ]
        }
      ],
      "source": [
        "#compiling model with adam optimizer\n",
        "model_GRU.compile(loss='sparse_categorical_crossentropy',optimizer='adam',metrics=['accuracy'])\n",
        "\n",
        "#training model on training,validation and testing sets\n",
        "model_GRU.fit(x_train,y_train,batch_size=128,epochs=80,validation_data=(x_test,y_test))\n",
        "\n",
        "#saving model\n",
        "model_GRU.save(\"MOD\")\n",
        "\n"
      ]
    },
    {
      "cell_type": "code",
      "execution_count": null,
      "metadata": {
        "id": "-YyB2Ei2-0Vj"
      },
      "outputs": [],
      "source": [
        "#loading model from saved models\n",
        "model=load_model(\"MOD\")\n",
        "\n",
        "#generating random index\n",
        "index = np.random.randint(0,len(x_test)-1)\n",
        "\n",
        "music_pattern=x_test[index]\n",
        "\n",
        "# making empty list for predicted notes\n",
        "out_pred=[]\n",
        "\n",
        "#iterating till 200 notes is generated\n",
        "for i in range(200):\n",
        "  #reshaping the music pattern\n",
        "  music_pattern=music_pattern.reshape(1,len(music_pattern),1)\n",
        "\n",
        "  #getting the note which has maximum probability of occurance\n",
        "  pred_index = np.argmax(model.predict(music_pattern))\n",
        "  out_pred.append(ind2note[pred_index])\n",
        "  music_pattern = np.append(music_pattern,pred_index)\n",
        "\n",
        "  #updating the music pattern with one timestamp ahead\n",
        "  music_pattern = music_pattern[1:]"
      ]
    },
    {
      "cell_type": "code",
      "execution_count": null,
      "metadata": {
        "id": "CYdfsl1Lnm2f",
        "colab": {
          "base_uri": "https://localhost:8080/",
          "height": 36
        },
        "outputId": "6cf42bcd-bb91-487f-9072-7aeaa80eb6f5"
      },
      "outputs": [
        {
          "output_type": "execute_result",
          "data": {
            "text/plain": [
              "'AI_composed_music.mid'"
            ],
            "application/vnd.google.colaboratory.intrinsic+json": {
              "type": "string"
            }
          },
          "metadata": {},
          "execution_count": 14
        }
      ],
      "source": [
        "#saving the predicted notes in output_notes\n",
        "output_notes = []\n",
        "for offset,pattern in enumerate(out_pred):\n",
        "  #if pattern is a chord instance\n",
        "  if ('.' in pattern) or pattern.isdigit():\n",
        "    #split notes from the chord\n",
        "    notes_in_chord = pattern.split('.')\n",
        "    notes = []\n",
        "    for current_note in notes_in_chord:\n",
        "        i_curr_note=int(current_note)\n",
        "        #cast the current note to Note object and\n",
        "        #append the current note\n",
        "        new_note = note.Note(i_curr_note)\n",
        "        new_note.storedInstrument = instrument.Piano()\n",
        "        notes.append(new_note)\n",
        "\n",
        "    #cast the current note to Chord object\n",
        "    #offset will be 1 step ahead from the previous note\n",
        "    #as it will prevent notes to stack up\n",
        "    new_chord = chord.Chord(notes)\n",
        "    new_chord.offset = offset\n",
        "    output_notes.append(new_chord)\n",
        "\n",
        "  else:\n",
        "    #cast the pattern to Note object apply the offset and\n",
        "    #append the note\n",
        "    new_note = note.Note(pattern)\n",
        "    new_note.offset = offset\n",
        "    new_note.storedInstrument = instrument.Piano()\n",
        "    output_notes.append(new_note)\n",
        "\n",
        "#save the midi file\n",
        "midi_stream = stream.Stream(output_notes)\n",
        "midi_stream.write('midi', fp='AI_composed_music.mid')\n",
        "\n"
      ]
    }
  ],
  "metadata": {
    "accelerator": "GPU",
    "colab": {
      "provenance": [],
      "gpuType": "T4"
    },
    "kernelspec": {
      "display_name": "Python 3",
      "name": "python3"
    },
    "language_info": {
      "name": "python"
    }
  },
  "nbformat": 4,
  "nbformat_minor": 0
}